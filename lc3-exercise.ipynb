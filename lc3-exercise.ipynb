{
  "nbformat": 4,
  "nbformat_minor": 0,
  "metadata": {
    "colab": {
      "provenance": []
    },
    "kernelspec": {
      "name": "python3",
      "display_name": "Python 3"
    },
    "language_info": {
      "name": "python"
    }
  },
  "cells": [
    {
      "cell_type": "markdown",
      "source": [
        "Perusahaan peminjaman sepeda di San Fransisco memintamu untuk menganalisa durasi perjalanan customer mereka. Untuk memudahkan analisa, lakukan hal-hal berikut ini:\n",
        "\n",
        "## **STATISTIK DESKRIPTIF**\n",
        "\n",
        "1. Lakukan perhitungan central tendency (mean, median, dan modus).\n",
        "2. Lakukan pengecekan dispersi (standar deviasi, variance, dan range).\n",
        "3. Lakukan pengecekan skewness dan kurtosis.\n",
        "3. Analisa apakah ada data outlier berdasarkan sebaran datanya.\n",
        "4. Cari tahu berapa persentase outlier terhadap data keseluruhan.\n",
        "5. Bagaimana perubahan pemusatan data sebelum dan sesudah penghapusan outlier?\n",
        "\n",
        "## **API**\n",
        "\n",
        "Buatlah API untuk:\n",
        "- `Menampilkan` seluruh entry data setelah dilakukan handling outlier.\n",
        "- `Menghapus` entry data, dari data yang telah dihandling outlier.\n",
        "\n",
        "clue:\n",
        "- Load data csv yang sudah diolah dengan pandas, kemudian konversi data ke dictionary `df.to_dict()` atau json `df.to_json()` untuk dapat diolah lebih lanjut dengan API menggunakan FastAPI.\n",
        "- Pembuatan API dilakukan pada script `.py`\n",
        "- Endpoint dan penamaan function pada API dibebaskan.\n",
        "\n",
        "\n",
        "---\n",
        "\n",
        "\n",
        "\n",
        "Data dapat diakses dari BigQuery dengan ketentuan:\n",
        "\n",
        "- Project_id: `bigquery-public-data`\n",
        "- Dataset: `san_francisco_bikeshare`\n",
        "- Table: `bikeshare_trips`\n",
        "- Ambil hanya kolom `duration_sec` saja\n",
        "- Berikan LIMIT pada data yang diambil sebesar 3000 entry data\n",
        "\n",
        "Koneksikan data di atas menggunakan `BigQuery` ke Google Colab dengan code berikut:\n",
        "```py\n",
        "from google.colab import auth\n",
        "from google.cloud import bigquery\n",
        "auth.authenticate_user()\n",
        "print('Authenticated')\n",
        "\n",
        "project_id = \"rock-wonder-317907\" #GUNAKAN GCP PROJECT-ID KALIAN MASING-MASING\n",
        "client = bigquery.Client(project=project_id)\n",
        "```\n",
        "\n",
        "Untuk melakukan Query menggunakan cara ini, kamu dapat menggunakan method `client.query('Masukkan Querynya').to_dataframe()`. Outputnya akan berupa Pandas dataframe, sehingga harus import Pandas.\n",
        "\n",
        "Contoh:\n",
        "\n",
        "```py\n",
        "df = client.query('''\n",
        "SELECT *\n",
        "FROM `bigquery-public-data.thelook_ecommerce.orders`\n",
        "WHERE created_at < \"2022-07-01\"\n",
        "ORDER BY year,month ASC\n",
        "''').to_dataframe()\n",
        "```\n",
        "\n"
      ],
      "metadata": {
        "id": "e0E_A5aDbO7r"
      }
    },
    {
      "cell_type": "code",
      "source": [
        "# Working area\n",
        "\n",
        "from google.colab import auth\n",
        "from google.cloud import bigquery\n",
        "auth.authenticate_user()\n",
        "print('Authenticated')\n",
        "\n",
        "project_id = \"dummy-467709\" #GUNAKAN GCP PROJECT-ID KALIAN MASING-MASING\n",
        "client = bigquery.Client(project=project_id)"
      ],
      "metadata": {
        "id": "stLFk77dk8Ek"
      },
      "execution_count": null,
      "outputs": []
    },
    {
      "cell_type": "code",
      "source": [
        "import pandas as pd\n",
        "import numpy as np\n",
        "from scipy import stats\n",
        "\n",
        "df = client.query('''\n",
        "SELECT duration_sec\n",
        "FROM `bigquery-public-data.san_francisco_bikeshare.bikeshare_trips`\n",
        "LIMIT 3000\n",
        "''').to_dataframe()"
      ],
      "metadata": {
        "id": "FdDy-GtHPA3Z"
      },
      "execution_count": 2,
      "outputs": []
    },
    {
      "cell_type": "markdown",
      "source": [
        "central tendency (mean, median, dan modus)"
      ],
      "metadata": {
        "id": "fFrNE2YUP1Zv"
      }
    },
    {
      "cell_type": "code",
      "source": [
        "mean_val = df['duration_sec'].mean()\n",
        "median_val = df['duration_sec'].median()\n",
        "mode_val = df['duration_sec'].mode()[0]  # ambil modus pertama\n",
        "\n",
        "print(\"Mean:\", mean_val)\n",
        "print(\"Median:\", median_val)\n",
        "print(\"Mode:\", mode_val)"
      ],
      "metadata": {
        "id": "KHlO7P2xP05T",
        "outputId": "448319f1-2b92-4733-b7ec-811dafd36e91",
        "colab": {
          "base_uri": "https://localhost:8080/"
        }
      },
      "execution_count": 5,
      "outputs": [
        {
          "output_type": "stream",
          "name": "stdout",
          "text": [
            "Mean: 800.4466666666667\n",
            "Median: 497.0\n",
            "Mode: 355\n"
          ]
        }
      ]
    },
    {
      "cell_type": "markdown",
      "source": [
        "dispersi (standar deviasi, variance, dan range)"
      ],
      "metadata": {
        "id": "8pRJTU0TP_JN"
      }
    },
    {
      "cell_type": "code",
      "source": [
        "std_dev = df['duration_sec'].std()\n",
        "variance_val = df['duration_sec'].var()\n",
        "range_val = df['duration_sec'].max() - df['duration_sec'].min()\n",
        "\n",
        "print(\"Std Dev:\", std_dev)\n",
        "print(\"Variance:\", variance_val)\n",
        "print(\"Range:\", range_val)"
      ],
      "metadata": {
        "id": "8pleuepgP_TG",
        "outputId": "694236eb-4523-4855-ea5e-4e894341ba9c",
        "colab": {
          "base_uri": "https://localhost:8080/"
        }
      },
      "execution_count": 6,
      "outputs": [
        {
          "output_type": "stream",
          "name": "stdout",
          "text": [
            "Std Dev: 2894.7638269284507\n",
            "Variance: 8379657.613693451\n",
            "Range: 83106\n"
          ]
        }
      ]
    },
    {
      "cell_type": "markdown",
      "source": [
        "Lakukan pengecekan skewness dan kurtosis."
      ],
      "metadata": {
        "id": "9edRZyePPhEi"
      }
    },
    {
      "cell_type": "code",
      "source": [
        "skew_val = stats.skew(df['duration_sec'])\n",
        "kurt_val = stats.kurtosis(df['duration_sec'])\n",
        "\n",
        "print(\"Skewness:\", skew_val)\n",
        "print(\"Kurtosis:\", kurt_val)"
      ],
      "metadata": {
        "id": "cR7fc-WuPQsm",
        "outputId": "da3a2734-ec6b-402e-8de3-b55232734e20",
        "colab": {
          "base_uri": "https://localhost:8080/"
        }
      },
      "execution_count": 7,
      "outputs": [
        {
          "output_type": "stream",
          "name": "stdout",
          "text": [
            "Skewness: 19.740009341206807\n",
            "Kurtosis: 441.13623840372856\n"
          ]
        }
      ]
    },
    {
      "cell_type": "markdown",
      "source": [
        "Analisa apakah ada data outlier berdasarkan sebaran datanya."
      ],
      "metadata": {
        "id": "AQoHiNomPkhk"
      }
    },
    {
      "cell_type": "code",
      "source": [
        "Q1 = df['duration_sec'].quantile(0.25)\n",
        "Q3 = df['duration_sec'].quantile(0.75)\n",
        "IQR = Q3 - Q1\n",
        "\n",
        "lower_bound = Q1 - 1.5 * IQR\n",
        "upper_bound = Q3 + 1.5 * IQR\n",
        "\n",
        "outliers = df[(df['duration_sec'] < lower_bound) | (df['duration_sec'] > upper_bound)]\n",
        "df_clean = df[(df['duration_sec'] >= lower_bound) & (df['duration_sec'] <= upper_bound)]\n",
        "\n",
        "df_clean.to_csv(\"df_clean.csv\", index=False)\n",
        "print(f\"Jumlah data awal: {len(df)}\")\n",
        "print(f\"Jumlah data setelah outlier dihapus: {len(df_clean)}\")\n",
        "print(f\"Jumlah outlier terdeteksi: {len(outliers)}\")"
      ],
      "metadata": {
        "id": "bZiO8DWjPoZ2",
        "outputId": "67ea95b2-14ce-4f8d-fac9-5656c835cdaf",
        "colab": {
          "base_uri": "https://localhost:8080/"
        }
      },
      "execution_count": 8,
      "outputs": [
        {
          "output_type": "stream",
          "name": "stdout",
          "text": [
            "Jumlah data awal: 3000\n",
            "Jumlah data setelah outlier dihapus: 2826\n",
            "Jumlah outlier terdeteksi: 174\n"
          ]
        }
      ]
    },
    {
      "cell_type": "markdown",
      "source": [
        "Cari tahu berapa persentase outlier terhadap data keseluruhan."
      ],
      "metadata": {
        "id": "6mdBm3G7TPq_"
      }
    },
    {
      "cell_type": "code",
      "source": [
        "outlier_percentage = (len(outliers) / len(df)) * 100\n",
        "\n",
        "print(f\"Jumlah data awal: {len(df)}\")\n",
        "print(f\"Jumlah outlier: {len(outliers)}\")\n",
        "print(f\"Persentase outlier: {outlier_percentage:.2f}%\")"
      ],
      "metadata": {
        "id": "Q0T2su1PTPkA",
        "outputId": "505e6bfb-0c89-46a9-fde7-91ca742cbc9f",
        "colab": {
          "base_uri": "https://localhost:8080/"
        }
      },
      "execution_count": 10,
      "outputs": [
        {
          "output_type": "stream",
          "name": "stdout",
          "text": [
            "Jumlah data awal: 3000\n",
            "Jumlah outlier: 174\n",
            "Persentase outlier: 5.80%\n"
          ]
        }
      ]
    },
    {
      "cell_type": "markdown",
      "source": [
        "Bagaimana perubahan pemusatan data sebelum dan sesudah penghapusan outlier?"
      ],
      "metadata": {
        "id": "UBpHsvvRPrkE"
      }
    },
    {
      "cell_type": "code",
      "source": [
        "mean_before = df['duration_sec'].mean()\n",
        "median_before = df['duration_sec'].median()\n",
        "mode_before = df['duration_sec'].mode()[0]\n",
        "\n",
        "mean_after = df_clean['duration_sec'].mean()\n",
        "median_after = df_clean['duration_sec'].median()\n",
        "mode_after = df_clean['duration_sec'].mode()[0]\n",
        "\n",
        "print(f\"Mean sebelum: {mean_before:.2f}, sesudah: {mean_after:.2f}\")\n",
        "print(f\"Median sebelum: {median_before:.2f}, sesudah: {median_after:.2f}\")\n",
        "print(f\"Mode sebelum: {mode_before:.2f}, sesudah: {mode_after:.2f}\")"
      ],
      "metadata": {
        "id": "SKrH0TV6PvUy",
        "outputId": "26594faa-1bd2-40b3-a8a1-6e17a223884f",
        "colab": {
          "base_uri": "https://localhost:8080/"
        }
      },
      "execution_count": 11,
      "outputs": [
        {
          "output_type": "stream",
          "name": "stdout",
          "text": [
            "Mean sebelum: 800.45, sesudah: 540.12\n",
            "Median sebelum: 497.00, sesudah: 475.00\n",
            "Mode sebelum: 355.00, sesudah: 355.00\n"
          ]
        }
      ]
    }
  ]
}